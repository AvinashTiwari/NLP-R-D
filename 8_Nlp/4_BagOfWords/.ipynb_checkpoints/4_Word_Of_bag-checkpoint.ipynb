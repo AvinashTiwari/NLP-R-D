{
 "cells": [
  {
   "cell_type": "code",
   "execution_count": 3,
   "metadata": {},
   "outputs": [],
   "source": [
    "import pandas as pd\n",
    "from nltk.tokenize import word_tokenize\n",
    "from nltk.corpus import stopwords\n",
    "from sklearn.feature_extraction.text import CountVectorizer\n",
    "pd.set_option(\"max_colwidth\",100)\n"
   ]
  },
  {
   "cell_type": "code",
   "execution_count": 4,
   "metadata": {},
   "outputs": [
    {
     "name": "stdout",
     "output_type": "stream",
     "text": [
      "['Gangs of Wasseypur is a great movie.', 'The success of a movie depends on the performance of the actors.', 'There are no new movie releasing this week.']\n"
     ]
    }
   ],
   "source": [
    "documents = [\"Gangs of Wasseypur is a great movie.\" , \"The success of a movie depends on the performance of the actors.\",\n",
    "\"There are no new movie releasing this week.\"]\n",
    "print(documents)"
   ]
  },
  {
   "cell_type": "code",
   "execution_count": 5,
   "metadata": {},
   "outputs": [
    {
     "name": "stdout",
     "output_type": "stream",
     "text": [
      "['gangs wasseypur great movie .', 'success movie depends performance actors .', 'new movie releasing week .']\n"
     ]
    }
   ],
   "source": [
    "def preprocess(document):\n",
    "    document = document.lower()\n",
    "    words = word_tokenize(document)\n",
    "    words = [word for word in words if word not in stopwords.words(\"english\")]\n",
    "    document = \" \".join(words)\n",
    "    return document\n",
    "\n",
    "documents = [preprocess(document) for document in documents]\n",
    "print(documents)"
   ]
  },
  {
   "cell_type": "code",
   "execution_count": 6,
   "metadata": {},
   "outputs": [
    {
     "name": "stdout",
     "output_type": "stream",
     "text": [
      "  (0, 4)\t1\n",
      "  (0, 3)\t1\n",
      "  (0, 9)\t1\n",
      "  (0, 2)\t1\n",
      "  (1, 0)\t1\n",
      "  (1, 6)\t1\n",
      "  (1, 1)\t1\n",
      "  (1, 8)\t1\n",
      "  (1, 4)\t1\n",
      "  (2, 10)\t1\n",
      "  (2, 7)\t1\n",
      "  (2, 5)\t1\n",
      "  (2, 4)\t1\n"
     ]
    }
   ],
   "source": [
    "vectorizer = CountVectorizer()\n",
    "bow_model = vectorizer.fit_transform(documents)\n",
    "print(bow_model)"
   ]
  },
  {
   "cell_type": "code",
   "execution_count": 7,
   "metadata": {},
   "outputs": [
    {
     "name": "stdout",
     "output_type": "stream",
     "text": [
      "[[0 0 1 1 1 0 0 0 0 1 0]\n",
      " [1 1 0 0 1 0 1 0 1 0 0]\n",
      " [0 0 0 0 1 1 0 1 0 0 1]]\n"
     ]
    }
   ],
   "source": [
    "print(bow_model.toarray())"
   ]
  },
  {
   "cell_type": "code",
   "execution_count": 8,
   "metadata": {},
   "outputs": [
    {
     "name": "stdout",
     "output_type": "stream",
     "text": [
      "(3, 11)\n",
      "['actors', 'depends', 'gangs', 'great', 'movie', 'new', 'performance', 'releasing', 'success', 'wasseypur', 'week']\n"
     ]
    }
   ],
   "source": [
    "print(bow_model.shape)\n",
    "print(vectorizer.get_feature_names())"
   ]
  },
  {
   "cell_type": "code",
   "execution_count": 9,
   "metadata": {},
   "outputs": [
    {
     "data": {
      "text/html": [
       "<div>\n",
       "<style scoped>\n",
       "    .dataframe tbody tr th:only-of-type {\n",
       "        vertical-align: middle;\n",
       "    }\n",
       "\n",
       "    .dataframe tbody tr th {\n",
       "        vertical-align: top;\n",
       "    }\n",
       "\n",
       "    .dataframe thead th {\n",
       "        text-align: right;\n",
       "    }\n",
       "</style>\n",
       "<table border=\"1\" class=\"dataframe\">\n",
       "  <thead>\n",
       "    <tr style=\"text-align: right;\">\n",
       "      <th></th>\n",
       "      <th>label</th>\n",
       "      <th>message</th>\n",
       "    </tr>\n",
       "  </thead>\n",
       "  <tbody>\n",
       "    <tr>\n",
       "      <th>0</th>\n",
       "      <td>ham</td>\n",
       "      <td>Go until jurong point, crazy.. Available only in bugis n great world la e buffet... Cine there g...</td>\n",
       "    </tr>\n",
       "    <tr>\n",
       "      <th>1</th>\n",
       "      <td>ham</td>\n",
       "      <td>Ok lar... Joking wif u oni...</td>\n",
       "    </tr>\n",
       "    <tr>\n",
       "      <th>2</th>\n",
       "      <td>spam</td>\n",
       "      <td>Free entry in 2 a wkly comp to win FA Cup final tkts 21st May 2005. Text FA to 87121 to receive ...</td>\n",
       "    </tr>\n",
       "    <tr>\n",
       "      <th>3</th>\n",
       "      <td>ham</td>\n",
       "      <td>U dun say so early hor... U c already then say...</td>\n",
       "    </tr>\n",
       "    <tr>\n",
       "      <th>4</th>\n",
       "      <td>ham</td>\n",
       "      <td>Nah I don't think he goes to usf, he lives around here though</td>\n",
       "    </tr>\n",
       "  </tbody>\n",
       "</table>\n",
       "</div>"
      ],
      "text/plain": [
       "  label  \\\n",
       "0   ham   \n",
       "1   ham   \n",
       "2  spam   \n",
       "3   ham   \n",
       "4   ham   \n",
       "\n",
       "                                                                                               message  \n",
       "0  Go until jurong point, crazy.. Available only in bugis n great world la e buffet... Cine there g...  \n",
       "1                                                                        Ok lar... Joking wif u oni...  \n",
       "2  Free entry in 2 a wkly comp to win FA Cup final tkts 21st May 2005. Text FA to 87121 to receive ...  \n",
       "3                                                    U dun say so early hor... U c already then say...  \n",
       "4                                        Nah I don't think he goes to usf, he lives around here though  "
      ]
     },
     "execution_count": 9,
     "metadata": {},
     "output_type": "execute_result"
    }
   ],
   "source": [
    "import pandas as pd\n",
    "spam = pd.read_csv(\".\\SMSSpamCollection.txt\", sep=\"\\t\", names=[\"label\", \"message\"])\n",
    "spam.head()"
   ]
  },
  {
   "cell_type": "code",
   "execution_count": 12,
   "metadata": {},
   "outputs": [
    {
     "name": "stdout",
     "output_type": "stream",
     "text": [
      "0       Go until jurong point, crazy.. Available only in bugis n great world la e buffet... Cine there g...\n",
      "1                                                                             Ok lar... Joking wif u oni...\n",
      "2       Free entry in 2 a wkly comp to win FA Cup final tkts 21st May 2005. Text FA to 87121 to receive ...\n",
      "3                                                         U dun say so early hor... U c already then say...\n",
      "4                                             Nah I don't think he goes to usf, he lives around here though\n",
      "5       FreeMsg Hey there darling it's been 3 week's now and no word back! I'd like some fun you up for ...\n",
      "6                             Even my brother is not like to speak with me. They treat me like aids patent.\n",
      "7       As per your request 'Melle Melle (Oru Minnaminunginte Nurungu Vettam)' has been set as your call...\n",
      "8       WINNER!! As a valued network customer you have been selected to receivea £900 prize reward! To c...\n",
      "9       Had your mobile 11 months or more? U R entitled to Update to the latest colour mobiles with came...\n",
      "10      I'm gonna be home soon and i don't want to talk about this stuff anymore tonight, k? I've cried ...\n",
      "11      SIX chances to win CASH! From 100 to 20,000 pounds txt> CSH11 and send to 87575. Cost 150p/day, ...\n",
      "12      URGENT! You have won a 1 week FREE membership in our £100,000 Prize Jackpot! Txt the word: CLAIM...\n",
      "13      I've been searching for the right words to thank you for this breather. I promise i wont take yo...\n",
      "14                                                                      I HAVE A DATE ON SUNDAY WITH WILL!!\n",
      "15      XXXMobileMovieClub: To use your credit, click the WAP link in the next txt message or click here...\n",
      "16                                                                               Oh k...i'm watching here:)\n",
      "17                        Eh u remember how 2 spell his name... Yes i did. He v naughty make until i v wet.\n",
      "18                                                 Fine if thats the way u feel. Thats the way its gota b\n",
      "19      England v Macedonia - dont miss the goals/team news. Txt ur national team to 87077 eg ENGLAND to...\n",
      "20                                                                Is that seriously how you spell his name?\n",
      "21                                                          I‘m going to try for 2 months ha ha only joking\n",
      "22                                                     So ü pay first lar... Then when is da stock comin...\n",
      "23                 Aft i finish my lunch then i go str down lor. Ard 3 smth lor. U finish ur lunch already?\n",
      "24                                                Ffffffffff. Alright no way I can meet up with you sooner?\n",
      "25      Just forced myself to eat a slice. I'm really not hungry tho. This sucks. Mark is getting worrie...\n",
      "26                                                                           Lol your always so convincing.\n",
      "27      Did you catch the bus ? Are you frying an egg ? Did you make a tea? Are you eating your mom's le...\n",
      "28                              I'm back &amp; we're packing the car now, I'll let you know if there's room\n",
      "29                                         Ahhh. Work. I vaguely remember that! What does it feel like? Lol\n",
      "                                                       ...                                                 \n",
      "5542                                                               Armand says get your ass over to epsilon\n",
      "5543                                                                 U still havent got urself a jacket ah?\n",
      "5544    I'm taking derek &amp; taylor to walmart, if I'm not back by the time you're done just leave the...\n",
      "5545                                                          Hi its in durban are you still on this number\n",
      "5546                                                             Ic. There are a lotta childporn cars then.\n",
      "5547    Had your contract mobile 11 Mnths? Latest Motorola, Nokia etc. all FREE! Double Mins & Text on O...\n",
      "5548                                                                     No, I was trying it all weekend ;V\n",
      "5549                You know, wot people wear. T shirts, jumpers, hat, belt, is all we know. We r at Cribbs\n",
      "5550                                                            Cool, what time you think you can get here?\n",
      "5551                                                    Wen did you get so spiritual and deep. That's great\n",
      "5552            Have a safe trip to Nigeria. Wish you happiness and very soon company to share moments with\n",
      "5553                                                                            Hahaha..use your brain dear\n",
      "5554     Well keep in mind I've only got enough gas for one more round trip barring a sudden influx of cash\n",
      "5555    Yeh. Indians was nice. Tho it did kane me off a bit he he. We shud go out 4 a drink sometime soo...\n",
      "5556                                        Yes i have. So that's why u texted. Pshew...missing you so much\n",
      "5557    No. I meant the calculation is the same. That  &lt;#&gt; units at  &lt;#&gt; . This school is re...\n",
      "5558                                                                                 Sorry, I'll call later\n",
      "5559                                     if you aren't here in the next  &lt;#&gt;  hours imma flip my shit\n",
      "5560                                                                      Anything lor. Juz both of us lor.\n",
      "5561                                 Get me out of this dump heap. My mom decided to come to lowes. BORING.\n",
      "5562       Ok lor... Sony ericsson salesman... I ask shuhui then she say quite gd 2 use so i considering...\n",
      "5563                                                                                    Ard 6 like dat lor.\n",
      "5564                                    Why don't you wait 'til at least wednesday to see if you get your .\n",
      "5565                                                                                           Huh y lei...\n",
      "5566    REMINDER FROM O2: To get 2.50 pounds free call credit and details of great offers pls reply 2 th...\n",
      "5567    This is the 2nd time we have tried 2 contact u. U have won the £750 Pound prize. 2 claim is easy...\n",
      "5568                                                                   Will ü b going to esplanade fr home?\n",
      "5569                                              Pity, * was in mood for that. So...any other suggestions?\n",
      "5570    The guy did some bitching but I acted like i'd be interested in buying something else next week ...\n",
      "5571                                                                             Rofl. Its true to its name\n",
      "Name: message, Length: 5572, dtype: object\n"
     ]
    }
   ],
   "source": [
    "messages  = spam.message\n",
    "print(messages)"
   ]
  },
  {
   "cell_type": "code",
   "execution_count": 13,
   "metadata": {},
   "outputs": [
    {
     "name": "stdout",
     "output_type": "stream",
     "text": [
      "0       Go until jurong point, crazy.. Available only in bugis n great world la e buffet... Cine there g...\n",
      "1                                                                             Ok lar... Joking wif u oni...\n",
      "2       Free entry in 2 a wkly comp to win FA Cup final tkts 21st May 2005. Text FA to 87121 to receive ...\n",
      "3                                                         U dun say so early hor... U c already then say...\n",
      "4                                             Nah I don't think he goes to usf, he lives around here though\n",
      "5       FreeMsg Hey there darling it's been 3 week's now and no word back! I'd like some fun you up for ...\n",
      "6                             Even my brother is not like to speak with me. They treat me like aids patent.\n",
      "7       As per your request 'Melle Melle (Oru Minnaminunginte Nurungu Vettam)' has been set as your call...\n",
      "8       WINNER!! As a valued network customer you have been selected to receivea £900 prize reward! To c...\n",
      "9       Had your mobile 11 months or more? U R entitled to Update to the latest colour mobiles with came...\n",
      "10      I'm gonna be home soon and i don't want to talk about this stuff anymore tonight, k? I've cried ...\n",
      "11      SIX chances to win CASH! From 100 to 20,000 pounds txt> CSH11 and send to 87575. Cost 150p/day, ...\n",
      "12      URGENT! You have won a 1 week FREE membership in our £100,000 Prize Jackpot! Txt the word: CLAIM...\n",
      "13      I've been searching for the right words to thank you for this breather. I promise i wont take yo...\n",
      "14                                                                      I HAVE A DATE ON SUNDAY WITH WILL!!\n",
      "15      XXXMobileMovieClub: To use your credit, click the WAP link in the next txt message or click here...\n",
      "16                                                                               Oh k...i'm watching here:)\n",
      "17                        Eh u remember how 2 spell his name... Yes i did. He v naughty make until i v wet.\n",
      "18                                                 Fine if thats the way u feel. Thats the way its gota b\n",
      "19      England v Macedonia - dont miss the goals/team news. Txt ur national team to 87077 eg ENGLAND to...\n",
      "20                                                                Is that seriously how you spell his name?\n",
      "21                                                          I‘m going to try for 2 months ha ha only joking\n",
      "22                                                     So ü pay first lar... Then when is da stock comin...\n",
      "23                 Aft i finish my lunch then i go str down lor. Ard 3 smth lor. U finish ur lunch already?\n",
      "24                                                Ffffffffff. Alright no way I can meet up with you sooner?\n",
      "25      Just forced myself to eat a slice. I'm really not hungry tho. This sucks. Mark is getting worrie...\n",
      "26                                                                           Lol your always so convincing.\n",
      "27      Did you catch the bus ? Are you frying an egg ? Did you make a tea? Are you eating your mom's le...\n",
      "28                              I'm back &amp; we're packing the car now, I'll let you know if there's room\n",
      "29                                         Ahhh. Work. I vaguely remember that! What does it feel like? Lol\n",
      "                                                       ...                                                 \n",
      "5542                                                               Armand says get your ass over to epsilon\n",
      "5543                                                                 U still havent got urself a jacket ah?\n",
      "5544    I'm taking derek &amp; taylor to walmart, if I'm not back by the time you're done just leave the...\n",
      "5545                                                          Hi its in durban are you still on this number\n",
      "5546                                                             Ic. There are a lotta childporn cars then.\n",
      "5547    Had your contract mobile 11 Mnths? Latest Motorola, Nokia etc. all FREE! Double Mins & Text on O...\n",
      "5548                                                                     No, I was trying it all weekend ;V\n",
      "5549                You know, wot people wear. T shirts, jumpers, hat, belt, is all we know. We r at Cribbs\n",
      "5550                                                            Cool, what time you think you can get here?\n",
      "5551                                                    Wen did you get so spiritual and deep. That's great\n",
      "5552            Have a safe trip to Nigeria. Wish you happiness and very soon company to share moments with\n",
      "5553                                                                            Hahaha..use your brain dear\n",
      "5554     Well keep in mind I've only got enough gas for one more round trip barring a sudden influx of cash\n",
      "5555    Yeh. Indians was nice. Tho it did kane me off a bit he he. We shud go out 4 a drink sometime soo...\n",
      "5556                                        Yes i have. So that's why u texted. Pshew...missing you so much\n",
      "5557    No. I meant the calculation is the same. That  &lt;#&gt; units at  &lt;#&gt; . This school is re...\n",
      "5558                                                                                 Sorry, I'll call later\n",
      "5559                                     if you aren't here in the next  &lt;#&gt;  hours imma flip my shit\n",
      "5560                                                                      Anything lor. Juz both of us lor.\n",
      "5561                                 Get me out of this dump heap. My mom decided to come to lowes. BORING.\n",
      "5562       Ok lor... Sony ericsson salesman... I ask shuhui then she say quite gd 2 use so i considering...\n",
      "5563                                                                                    Ard 6 like dat lor.\n",
      "5564                                    Why don't you wait 'til at least wednesday to see if you get your .\n",
      "5565                                                                                           Huh y lei...\n",
      "5566    REMINDER FROM O2: To get 2.50 pounds free call credit and details of great offers pls reply 2 th...\n",
      "5567    This is the 2nd time we have tried 2 contact u. U have won the £750 Pound prize. 2 claim is easy...\n",
      "5568                                                                   Will ü b going to esplanade fr home?\n",
      "5569                                              Pity, * was in mood for that. So...any other suggestions?\n",
      "5570    The guy did some bitching but I acted like i'd be interested in buying something else next week ...\n",
      "5571                                                                             Rofl. Its true to its name\n",
      "Name: message, Length: 5572, dtype: object\n"
     ]
    }
   ],
   "source": [
    "message = [message for message in messages]\n",
    "print(messages)"
   ]
  },
  {
   "cell_type": "code",
   "execution_count": 16,
   "metadata": {},
   "outputs": [
    {
     "name": "stdout",
     "output_type": "stream",
     "text": [
      "[[0 0 0 ... 0 0 0]\n",
      " [0 0 0 ... 0 0 0]\n",
      " [0 0 0 ... 0 0 0]\n",
      " ...\n",
      " [0 0 0 ... 0 0 0]\n",
      " [0 0 0 ... 0 0 0]\n",
      " [0 0 0 ... 0 0 0]]\n"
     ]
    }
   ],
   "source": [
    "vectorizer = CountVectorizer()\n",
    "bow_model = vectorizer.fit_transform(messages)\n",
    "print(bow_model.toarray())"
   ]
  },
  {
   "cell_type": "code",
   "execution_count": 17,
   "metadata": {},
   "outputs": [
    {
     "name": "stdout",
     "output_type": "stream",
     "text": [
      "(5572, 8713)\n",
      "<bound method CountVectorizer.get_feature_names of CountVectorizer(analyzer='word', binary=False, decode_error='strict',\n",
      "        dtype=<class 'numpy.int64'>, encoding='utf-8', input='content',\n",
      "        lowercase=True, max_df=1.0, max_features=None, min_df=1,\n",
      "        ngram_range=(1, 1), preprocessor=None, stop_words=None,\n",
      "        strip_accents=None, token_pattern='(?u)\\\\b\\\\w\\\\w+\\\\b',\n",
      "        tokenizer=None, vocabulary=None)>\n"
     ]
    }
   ],
   "source": [
    "print(bow_model.shape)\n",
    "print(vectorizer.get_feature_names)"
   ]
  },
  {
   "cell_type": "code",
   "execution_count": null,
   "metadata": {},
   "outputs": [],
   "source": [
    "from nltk.stem import WordNetLemmatizer\n",
    "from nltk.stem.porter import PorterStemmer"
   ]
  }
 ],
 "metadata": {
  "kernelspec": {
   "display_name": "Python 3",
   "language": "python",
   "name": "python3"
  },
  "language_info": {
   "codemirror_mode": {
    "name": "ipython",
    "version": 3
   },
   "file_extension": ".py",
   "mimetype": "text/x-python",
   "name": "python",
   "nbconvert_exporter": "python",
   "pygments_lexer": "ipython3",
   "version": "3.7.0"
  }
 },
 "nbformat": 4,
 "nbformat_minor": 2
}
