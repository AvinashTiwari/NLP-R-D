{
 "cells": [
  {
   "cell_type": "code",
   "execution_count": null,
   "metadata": {},
   "outputs": [],
   "source": [
    "def lev_distance(source='', target=''):\n",
    "    n1,n2 = len(source), len(target)\n",
    "    matrix =[[0 for il in in range(n1+1)] for i2 in range(n2 + 1)]\n",
    "    \n",
    "    for i1 in range(1, n1 + 1):\n",
    "        matrix[0][i1] = i1\n",
    "    \n",
    "    for i2 in range(1, n2+1):\n",
    "        matrix[i2][0] = i2\n",
    "        "
   ]
  }
 ],
 "metadata": {
  "kernelspec": {
   "display_name": "Python 3",
   "language": "python",
   "name": "python3"
  },
  "language_info": {
   "codemirror_mode": {
    "name": "ipython",
    "version": 3
   },
   "file_extension": ".py",
   "mimetype": "text/x-python",
   "name": "python",
   "nbconvert_exporter": "python",
   "pygments_lexer": "ipython3",
   "version": "3.7.0"
  }
 },
 "nbformat": 4,
 "nbformat_minor": 2
}
