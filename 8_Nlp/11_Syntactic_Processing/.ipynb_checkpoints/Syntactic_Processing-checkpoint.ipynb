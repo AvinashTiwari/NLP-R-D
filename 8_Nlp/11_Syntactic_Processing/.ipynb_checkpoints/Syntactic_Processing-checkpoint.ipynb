{
 "cells": [
  {
   "cell_type": "code",
   "execution_count": 1,
   "metadata": {},
   "outputs": [],
   "source": [
    "import nltk,re,pprint\n",
    "import numpy as np\n",
    "import pandas as pd\n",
    "import requests\n",
    "import matplotlib.pyplot as plt\n",
    "import pprint,time\n",
    "import random\n",
    "from sklearn.model_selection import train_test_split\n",
    "from nltk.tokenize import word_tokenize"
   ]
  },
  {
   "cell_type": "code",
   "execution_count": 2,
   "metadata": {},
   "outputs": [],
   "source": [
    "wsj = list(nltk.corpus.treebank.tagged_sents())"
   ]
  },
  {
   "cell_type": "code",
   "execution_count": 3,
   "metadata": {},
   "outputs": [
    {
     "name": "stdout",
     "output_type": "stream",
     "text": [
      "[[('Pierre', 'NNP'), ('Vinken', 'NNP'), (',', ','), ('61', 'CD'), ('years', 'NNS'), ('old', 'JJ'), (',', ','), ('will', 'MD'), ('join', 'VB'), ('the', 'DT'), ('board', 'NN'), ('as', 'IN'), ('a', 'DT'), ('nonexecutive', 'JJ'), ('director', 'NN'), ('Nov.', 'NNP'), ('29', 'CD'), ('.', '.')], [('Mr.', 'NNP'), ('Vinken', 'NNP'), ('is', 'VBZ'), ('chairman', 'NN'), ('of', 'IN'), ('Elsevier', 'NNP'), ('N.V.', 'NNP'), (',', ','), ('the', 'DT'), ('Dutch', 'NNP'), ('publishing', 'VBG'), ('group', 'NN'), ('.', '.')], [('Rudolph', 'NNP'), ('Agnew', 'NNP'), (',', ','), ('55', 'CD'), ('years', 'NNS'), ('old', 'JJ'), ('and', 'CC'), ('former', 'JJ'), ('chairman', 'NN'), ('of', 'IN'), ('Consolidated', 'NNP'), ('Gold', 'NNP'), ('Fields', 'NNP'), ('PLC', 'NNP'), (',', ','), ('was', 'VBD'), ('named', 'VBN'), ('*-1', '-NONE-'), ('a', 'DT'), ('nonexecutive', 'JJ'), ('director', 'NN'), ('of', 'IN'), ('this', 'DT'), ('British', 'JJ'), ('industrial', 'JJ'), ('conglomerate', 'NN'), ('.', '.')], [('A', 'DT'), ('form', 'NN'), ('of', 'IN'), ('asbestos', 'NN'), ('once', 'RB'), ('used', 'VBN'), ('*', '-NONE-'), ('*', '-NONE-'), ('to', 'TO'), ('make', 'VB'), ('Kent', 'NNP'), ('cigarette', 'NN'), ('filters', 'NNS'), ('has', 'VBZ'), ('caused', 'VBN'), ('a', 'DT'), ('high', 'JJ'), ('percentage', 'NN'), ('of', 'IN'), ('cancer', 'NN'), ('deaths', 'NNS'), ('among', 'IN'), ('a', 'DT'), ('group', 'NN'), ('of', 'IN'), ('workers', 'NNS'), ('exposed', 'VBN'), ('*', '-NONE-'), ('to', 'TO'), ('it', 'PRP'), ('more', 'RBR'), ('than', 'IN'), ('30', 'CD'), ('years', 'NNS'), ('ago', 'IN'), (',', ','), ('researchers', 'NNS'), ('reported', 'VBD'), ('0', '-NONE-'), ('*T*-1', '-NONE-'), ('.', '.')], [('The', 'DT'), ('asbestos', 'NN'), ('fiber', 'NN'), (',', ','), ('crocidolite', 'NN'), (',', ','), ('is', 'VBZ'), ('unusually', 'RB'), ('resilient', 'JJ'), ('once', 'IN'), ('it', 'PRP'), ('enters', 'VBZ'), ('the', 'DT'), ('lungs', 'NNS'), (',', ','), ('with', 'IN'), ('even', 'RB'), ('brief', 'JJ'), ('exposures', 'NNS'), ('to', 'TO'), ('it', 'PRP'), ('causing', 'VBG'), ('symptoms', 'NNS'), ('that', 'WDT'), ('*T*-1', '-NONE-'), ('show', 'VBP'), ('up', 'RP'), ('decades', 'NNS'), ('later', 'JJ'), (',', ','), ('researchers', 'NNS'), ('said', 'VBD'), ('0', '-NONE-'), ('*T*-2', '-NONE-'), ('.', '.')], [('Lorillard', 'NNP'), ('Inc.', 'NNP'), (',', ','), ('the', 'DT'), ('unit', 'NN'), ('of', 'IN'), ('New', 'JJ'), ('York-based', 'JJ'), ('Loews', 'NNP'), ('Corp.', 'NNP'), ('that', 'WDT'), ('*T*-2', '-NONE-'), ('makes', 'VBZ'), ('Kent', 'NNP'), ('cigarettes', 'NNS'), (',', ','), ('stopped', 'VBD'), ('using', 'VBG'), ('crocidolite', 'NN'), ('in', 'IN'), ('its', 'PRP$'), ('Micronite', 'NN'), ('cigarette', 'NN'), ('filters', 'NNS'), ('in', 'IN'), ('1956', 'CD'), ('.', '.')], [('Although', 'IN'), ('preliminary', 'JJ'), ('findings', 'NNS'), ('were', 'VBD'), ('reported', 'VBN'), ('*-2', '-NONE-'), ('more', 'RBR'), ('than', 'IN'), ('a', 'DT'), ('year', 'NN'), ('ago', 'IN'), (',', ','), ('the', 'DT'), ('latest', 'JJS'), ('results', 'NNS'), ('appear', 'VBP'), ('in', 'IN'), ('today', 'NN'), (\"'s\", 'POS'), ('New', 'NNP'), ('England', 'NNP'), ('Journal', 'NNP'), ('of', 'IN'), ('Medicine', 'NNP'), (',', ','), ('a', 'DT'), ('forum', 'NN'), ('likely', 'JJ'), ('*', '-NONE-'), ('to', 'TO'), ('bring', 'VB'), ('new', 'JJ'), ('attention', 'NN'), ('to', 'TO'), ('the', 'DT'), ('problem', 'NN'), ('.', '.')], [('A', 'DT'), ('Lorillard', 'NNP'), ('spokewoman', 'NN'), ('said', 'VBD'), (',', ','), ('``', '``'), ('This', 'DT'), ('is', 'VBZ'), ('an', 'DT'), ('old', 'JJ'), ('story', 'NN'), ('.', '.')], [('We', 'PRP'), (\"'re\", 'VBP'), ('talking', 'VBG'), ('about', 'IN'), ('years', 'NNS'), ('ago', 'IN'), ('before', 'IN'), ('anyone', 'NN'), ('heard', 'VBD'), ('of', 'IN'), ('asbestos', 'NN'), ('having', 'VBG'), ('any', 'DT'), ('questionable', 'JJ'), ('properties', 'NNS'), ('.', '.')], [('There', 'EX'), ('is', 'VBZ'), ('no', 'DT'), ('asbestos', 'NN'), ('in', 'IN'), ('our', 'PRP$'), ('products', 'NNS'), ('now', 'RB'), ('.', '.'), (\"''\", \"''\")], [('Neither', 'DT'), ('Lorillard', 'NNP'), ('nor', 'CC'), ('the', 'DT'), ('researchers', 'NNS'), ('who', 'WP'), ('*T*-3', '-NONE-'), ('studied', 'VBD'), ('the', 'DT'), ('workers', 'NNS'), ('were', 'VBD'), ('aware', 'JJ'), ('of', 'IN'), ('any', 'DT'), ('research', 'NN'), ('on', 'IN'), ('smokers', 'NNS'), ('of', 'IN'), ('the', 'DT'), ('Kent', 'NNP'), ('cigarettes', 'NNS'), ('.', '.')], [('``', '``'), ('We', 'PRP'), ('have', 'VBP'), ('no', 'DT'), ('useful', 'JJ'), ('information', 'NN'), ('on', 'IN'), ('whether', 'IN'), ('users', 'NNS'), ('are', 'VBP'), ('at', 'IN'), ('risk', 'NN'), (',', ','), (\"''\", \"''\"), ('said', 'VBD'), ('*T*-1', '-NONE-'), ('James', 'NNP'), ('A.', 'NNP'), ('Talcott', 'NNP'), ('of', 'IN'), ('Boston', 'NNP'), (\"'s\", 'POS'), ('Dana-Farber', 'NNP'), ('Cancer', 'NNP'), ('Institute', 'NNP'), ('.', '.')], [('Dr.', 'NNP'), ('Talcott', 'NNP'), ('led', 'VBD'), ('a', 'DT'), ('team', 'NN'), ('of', 'IN'), ('researchers', 'NNS'), ('from', 'IN'), ('the', 'DT'), ('National', 'NNP'), ('Cancer', 'NNP'), ('Institute', 'NNP'), ('and', 'CC'), ('the', 'DT'), ('medical', 'JJ'), ('schools', 'NNS'), ('of', 'IN'), ('Harvard', 'NNP'), ('University', 'NNP'), ('and', 'CC'), ('Boston', 'NNP'), ('University', 'NNP'), ('.', '.')], [('The', 'DT'), ('Lorillard', 'NNP'), ('spokeswoman', 'NN'), ('said', 'VBD'), ('0', '-NONE-'), ('asbestos', 'NN'), ('was', 'VBD'), ('used', 'VBN'), ('*-1', '-NONE-'), ('in', 'IN'), ('``', '``'), ('very', 'RB'), ('modest', 'JJ'), ('amounts', 'NNS'), (\"''\", \"''\"), ('in', 'IN'), ('*', '-NONE-'), ('making', 'VBG'), ('paper', 'NN'), ('for', 'IN'), ('the', 'DT'), ('filters', 'NNS'), ('in', 'IN'), ('the', 'DT'), ('early', 'JJ'), ('1950s', 'CD'), ('and', 'CC'), ('replaced', 'VBN'), ('*-1', '-NONE-'), ('with', 'IN'), ('a', 'DT'), ('different', 'JJ'), ('type', 'NN'), ('of', 'IN'), ('filter', 'NN'), ('in', 'IN'), ('1956', 'CD'), ('.', '.')], [('From', 'IN'), ('1953', 'CD'), ('to', 'TO'), ('1955', 'CD'), (',', ','), ('9.8', 'CD'), ('billion', 'CD'), ('Kent', 'NNP'), ('cigarettes', 'NNS'), ('with', 'IN'), ('the', 'DT'), ('filters', 'NNS'), ('were', 'VBD'), ('sold', 'VBN'), ('*-3', '-NONE-'), (',', ','), ('the', 'DT'), ('company', 'NN'), ('said', 'VBD'), ('0', '-NONE-'), ('*T*-1', '-NONE-'), ('.', '.')], [('Among', 'IN'), ('33', 'CD'), ('men', 'NNS'), ('who', 'WP'), ('*T*-4', '-NONE-'), ('worked', 'VBD'), ('closely', 'RB'), ('with', 'IN'), ('the', 'DT'), ('substance', 'NN'), (',', ','), ('28', 'CD'), ('*ICH*-1', '-NONE-'), ('have', 'VBP'), ('died', 'VBN'), ('--', ':'), ('more', 'JJ'), ('than', 'IN'), ('three', 'CD'), ('times', 'NNS'), ('the', 'DT'), ('expected', 'VBN'), ('number', 'NN'), ('.', '.')], [('Four', 'CD'), ('of', 'IN'), ('the', 'DT'), ('five', 'CD'), ('surviving', 'VBG'), ('workers', 'NNS'), ('have', 'VBP'), ('asbestos-related', 'JJ'), ('diseases', 'NNS'), (',', ','), ('including', 'VBG'), ('three', 'CD'), ('with', 'IN'), ('recently', 'RB'), ('diagnosed', 'VBN'), ('cancer', 'NN'), ('.', '.')], [('The', 'DT'), ('total', 'NN'), ('of', 'IN'), ('18', 'CD'), ('deaths', 'NNS'), ('from', 'IN'), ('malignant', 'JJ'), ('mesothelioma', 'NN'), (',', ','), ('lung', 'NN'), ('cancer', 'NN'), ('and', 'CC'), ('asbestosis', 'NN'), ('was', 'VBD'), ('far', 'RB'), ('higher', 'JJR'), ('than', 'IN'), ('*', '-NONE-'), ('expected', 'VBN'), ('*?*', '-NONE-'), (',', ','), ('the', 'DT'), ('researchers', 'NNS'), ('said', 'VBD'), ('0', '-NONE-'), ('*T*-1', '-NONE-'), ('.', '.')], [('``', '``'), ('The', 'DT'), ('morbidity', 'NN'), ('rate', 'NN'), ('is', 'VBZ'), ('a', 'DT'), ('striking', 'JJ'), ('finding', 'NN'), ('among', 'IN'), ('those', 'DT'), ('of', 'IN'), ('us', 'PRP'), ('who', 'WP'), ('*T*-5', '-NONE-'), ('study', 'VBP'), ('asbestos-related', 'JJ'), ('diseases', 'NNS'), (',', ','), (\"''\", \"''\"), ('said', 'VBD'), ('*T*-1', '-NONE-'), ('Dr.', 'NNP'), ('Talcott', 'NNP'), ('.', '.')], [('The', 'DT'), ('percentage', 'NN'), ('of', 'IN'), ('lung', 'NN'), ('cancer', 'NN'), ('deaths', 'NNS'), ('among', 'IN'), ('the', 'DT'), ('workers', 'NNS'), ('at', 'IN'), ('the', 'DT'), ('West', 'NNP'), ('Groton', 'NNP'), (',', ','), ('Mass.', 'NNP'), (',', ','), ('paper', 'NN'), ('factory', 'NN'), ('appears', 'VBZ'), ('*-1', '-NONE-'), ('to', 'TO'), ('be', 'VB'), ('the', 'DT'), ('highest', 'JJS'), ('for', 'IN'), ('any', 'DT'), ('asbestos', 'NN'), ('workers', 'NNS'), ('studied', 'VBN'), ('*', '-NONE-'), ('in', 'IN'), ('Western', 'JJ'), ('industrialized', 'VBN'), ('countries', 'NNS'), (',', ','), ('he', 'PRP'), ('said', 'VBD'), ('0', '-NONE-'), ('*T*-2', '-NONE-'), ('.', '.')], [('The', 'DT'), ('plant', 'NN'), (',', ','), ('which', 'WDT'), ('*T*-1', '-NONE-'), ('is', 'VBZ'), ('owned', 'VBN'), ('*-4', '-NONE-'), ('by', 'IN'), ('Hollingsworth', 'NNP'), ('&', 'CC'), ('Vose', 'NNP'), ('Co.', 'NNP'), (',', ','), ('was', 'VBD'), ('under', 'IN'), ('contract', 'NN'), ('*ICH*-2', '-NONE-'), ('with', 'IN'), ('Lorillard', 'NN'), ('*', '-NONE-'), ('to', 'TO'), ('make', 'VB'), ('the', 'DT'), ('cigarette', 'NN'), ('filters', 'NNS'), ('.', '.')], [('The', 'DT'), ('finding', 'NN'), ('probably', 'RB'), ('will', 'MD'), ('support', 'VB'), ('those', 'DT'), ('who', 'WP'), ('*T*-6', '-NONE-'), ('argue', 'VBP'), ('that', 'IN'), ('the', 'DT'), ('U.S.', 'NNP'), ('should', 'MD'), ('regulate', 'VB'), ('the', 'DT'), ('class', 'NN'), ('of', 'IN'), ('asbestos', 'NN'), ('including', 'VBG'), ('crocidolite', 'NN'), ('more', 'RBR'), ('stringently', 'RB'), ('than', 'IN'), ('the', 'DT'), ('common', 'JJ'), ('kind', 'NN'), ('of', 'IN'), ('asbestos', 'NN'), (',', ','), ('chrysotile', 'NN'), (',', ','), ('found', 'VBN'), ('*', '-NONE-'), ('in', 'IN'), ('most', 'JJS'), ('schools', 'NNS'), ('and', 'CC'), ('other', 'JJ'), ('buildings', 'NNS'), (',', ','), ('Dr.', 'NNP'), ('Talcott', 'NNP'), ('said', 'VBD'), ('0', '-NONE-'), ('*T*-1', '-NONE-'), ('.', '.')], [('The', 'DT'), ('U.S.', 'NNP'), ('is', 'VBZ'), ('one', 'CD'), ('of', 'IN'), ('the', 'DT'), ('few', 'JJ'), ('industrialized', 'VBN'), ('nations', 'NNS'), ('that', 'WDT'), ('*T*-7', '-NONE-'), ('does', 'VBZ'), (\"n't\", 'RB'), ('have', 'VB'), ('a', 'DT'), ('higher', 'JJR'), ('standard', 'NN'), ('of', 'IN'), ('regulation', 'NN'), ('for', 'IN'), ('the', 'DT'), ('smooth', 'JJ'), (',', ','), ('needle-like', 'JJ'), ('fibers', 'NNS'), ('such', 'JJ'), ('as', 'IN'), ('crocidolite', 'NN'), ('that', 'WDT'), ('*T*-1', '-NONE-'), ('are', 'VBP'), ('classified', 'VBN'), ('*-5', '-NONE-'), ('as', 'IN'), ('amphobiles', 'NNS'), (',', ','), ('according', 'VBG'), ('to', 'TO'), ('Brooke', 'NNP'), ('T.', 'NNP'), ('Mossman', 'NNP'), (',', ','), ('a', 'DT'), ('professor', 'NN'), ('of', 'IN'), ('pathlogy', 'NN'), ('at', 'IN'), ('the', 'DT'), ('University', 'NNP'), ('of', 'IN'), ('Vermont', 'NNP'), ('College', 'NNP'), ('of', 'IN'), ('Medicine', 'NNP'), ('.', '.')], [('More', 'RBR'), ('common', 'JJ'), ('chrysotile', 'NN'), ('fibers', 'NNS'), ('are', 'VBP'), ('curly', 'JJ'), ('and', 'CC'), ('are', 'VBP'), ('more', 'RBR'), ('easily', 'RB'), ('rejected', 'VBN'), ('*-1', '-NONE-'), ('by', 'IN'), ('the', 'DT'), ('body', 'NN'), (',', ','), ('Dr.', 'NNP'), ('Mossman', 'NNP'), ('explained', 'VBD'), ('0', '-NONE-'), ('*T*-2', '-NONE-'), ('.', '.')], [('In', 'IN'), ('July', 'NNP'), (',', ','), ('the', 'DT'), ('Environmental', 'NNP'), ('Protection', 'NNP'), ('Agency', 'NNP'), ('imposed', 'VBD'), ('a', 'DT'), ('gradual', 'JJ'), ('ban', 'NN'), ('on', 'IN'), ('virtually', 'RB'), ('all', 'DT'), ('uses', 'NNS'), ('of', 'IN'), ('asbestos', 'NN'), ('.', '.')], [('By', 'IN'), ('1997', 'CD'), (',', ','), ('almost', 'RB'), ('all', 'DT'), ('remaining', 'VBG'), ('uses', 'NNS'), ('of', 'IN'), ('cancer-causing', 'JJ'), ('asbestos', 'NN'), ('will', 'MD'), ('be', 'VB'), ('outlawed', 'VBN'), ('*-6', '-NONE-'), ('.', '.')], [('About', 'IN'), ('160', 'CD'), ('workers', 'NNS'), ('at', 'IN'), ('a', 'DT'), ('factory', 'NN'), ('that', 'WDT'), ('*T*-8', '-NONE-'), ('made', 'VBD'), ('paper', 'NN'), ('for', 'IN'), ('the', 'DT'), ('Kent', 'NNP'), ('filters', 'NNS'), ('were', 'VBD'), ('exposed', 'VBN'), ('*-7', '-NONE-'), ('to', 'TO'), ('asbestos', 'NN'), ('in', 'IN'), ('the', 'DT'), ('1950s', 'CD'), ('.', '.')], [('Areas', 'NNS'), ('of', 'IN'), ('the', 'DT'), ('factory', 'NN'), ('*ICH*-2', '-NONE-'), ('were', 'VBD'), ('particularly', 'RB'), ('dusty', 'JJ'), ('where', 'WRB'), ('the', 'DT'), ('crocidolite', 'NN'), ('was', 'VBD'), ('used', 'VBN'), ('*-8', '-NONE-'), ('*T*-1', '-NONE-'), ('.', '.')], [('Workers', 'NNS'), ('dumped', 'VBD'), ('large', 'JJ'), ('burlap', 'NN'), ('sacks', 'NNS'), ('of', 'IN'), ('the', 'DT'), ('imported', 'VBN'), ('material', 'NN'), ('into', 'IN'), ('a', 'DT'), ('huge', 'JJ'), ('bin', 'NN'), (',', ','), ('poured', 'VBD'), ('in', 'RP'), ('cotton', 'NN'), ('and', 'CC'), ('acetate', 'NN'), ('fibers', 'NNS'), ('and', 'CC'), ('mechanically', 'RB'), ('mixed', 'VBD'), ('the', 'DT'), ('dry', 'JJ'), ('fibers', 'NNS'), ('in', 'IN'), ('a', 'DT'), ('process', 'NN'), ('used', 'VBN'), ('*', '-NONE-'), ('*', '-NONE-'), ('to', 'TO'), ('make', 'VB'), ('filters', 'NNS'), ('.', '.')], [('Workers', 'NNS'), ('described', 'VBD'), ('``', '``'), ('clouds', 'NNS'), ('of', 'IN'), ('blue', 'JJ'), ('dust', 'NN'), (\"''\", \"''\"), ('that', 'WDT'), ('*T*-1', '-NONE-'), ('hung', 'VBD'), ('over', 'IN'), ('parts', 'NNS'), ('of', 'IN'), ('the', 'DT'), ('factory', 'NN'), (',', ','), ('even', 'RB'), ('though', 'IN'), ('exhaust', 'NN'), ('fans', 'NNS'), ('ventilated', 'VBD'), ('the', 'DT'), ('area', 'NN'), ('.', '.')], [('``', '``'), ('There', 'EX'), (\"'s\", 'VBZ'), ('no', 'DT'), ('question', 'NN'), ('that', 'IN'), ('some', 'DT'), ('of', 'IN'), ('those', 'DT'), ('workers', 'NNS'), ('and', 'CC'), ('managers', 'NNS'), ('contracted', 'VBD'), ('asbestos-related', 'JJ'), ('diseases', 'NNS'), (',', ','), (\"''\", \"''\"), ('said', 'VBD'), ('*T*-1', '-NONE-'), ('Darrell', 'NNP'), ('Phillips', 'NNP'), (',', ','), ('vice', 'NN'), ('president', 'NN'), ('of', 'IN'), ('human', 'JJ'), ('resources', 'NNS'), ('for', 'IN'), ('Hollingsworth', 'NNP'), ('&', 'CC'), ('Vose', 'NNP'), ('.', '.')], [('``', '``'), ('But', 'CC'), ('you', 'PRP'), ('have', 'VBP'), ('*-1', '-NONE-'), ('to', 'TO'), ('recognize', 'VB'), ('that', 'IN'), ('these', 'DT'), ('events', 'NNS'), ('took', 'VBD'), ('place', 'NN'), ('35', 'CD'), ('years', 'NNS'), ('ago', 'IN'), ('.', '.')], [('It', 'PRP'), ('has', 'VBZ'), ('no', 'DT'), ('bearing', 'NN'), ('on', 'IN'), ('our', 'PRP$'), ('work', 'NN'), ('force', 'NN'), ('today', 'NN'), ('.', '.')], [('Yields', 'NNS'), ('on', 'IN'), ('money-market', 'JJ'), ('mutual', 'JJ'), ('funds', 'NNS'), ('continued', 'VBD'), ('*-1', '-NONE-'), ('to', 'TO'), ('slide', 'VB'), (',', ','), ('amid', 'IN'), ('signs', 'NNS'), ('that', 'IN'), ('portfolio', 'NN'), ('managers', 'NNS'), ('expect', 'VBP'), ('further', 'JJ'), ('declines', 'NNS'), ('in', 'IN'), ('interest', 'NN'), ('rates', 'NNS'), ('.', '.')], [('The', 'DT'), ('average', 'JJ'), ('seven-day', 'JJ'), ('compound', 'NN'), ('yield', 'NN'), ('of', 'IN'), ('the', 'DT'), ('400', 'CD'), ('taxable', 'JJ'), ('funds', 'NNS'), ('tracked', 'VBN'), ('*', '-NONE-'), ('by', 'IN'), ('IBC', 'NNP'), (\"'s\", 'POS'), ('Money', 'NNP'), ('Fund', 'NNP'), ('Report', 'NNP'), ('eased', 'VBD'), ('a', 'DT'), ('fraction', 'NN'), ('of', 'IN'), ('a', 'DT'), ('percentage', 'NN'), ('point', 'NN'), ('to', 'TO'), ('8.45', 'CD'), ('%', 'NN'), ('from', 'IN'), ('8.47', 'CD'), ('%', 'NN'), ('for', 'IN'), ('the', 'DT'), ('week', 'NN'), ('ended', 'VBD'), ('Tuesday', 'NNP'), ('.', '.')], [('Compound', 'NN'), ('yields', 'NNS'), ('assume', 'VBP'), ('reinvestment', 'NN'), ('of', 'IN'), ('dividends', 'NNS'), ('and', 'CC'), ('that', 'IN'), ('the', 'DT'), ('current', 'JJ'), ('yield', 'NN'), ('continues', 'VBZ'), ('for', 'IN'), ('a', 'DT'), ('year', 'NN'), ('.', '.')], [('Average', 'JJ'), ('maturity', 'NN'), ('of', 'IN'), ('the', 'DT'), ('funds', 'NNS'), (\"'\", 'POS'), ('investments', 'NNS'), ('lengthened', 'VBD'), ('by', 'IN'), ('a', 'DT'), ('day', 'NN'), ('to', 'TO'), ('41', 'CD'), ('days', 'NNS'), (',', ','), ('the', 'DT'), ('longest', 'JJS'), ('since', 'IN'), ('early', 'JJ'), ('August', 'NNP'), (',', ','), ('according', 'VBG'), ('to', 'TO'), ('Donoghue', 'NNP'), (\"'s\", 'POS'), ('.', '.')], [('Longer', 'JJR'), ('maturities', 'NNS'), ('are', 'VBP'), ('thought', 'VBN'), ('*-1', '-NONE-'), ('to', 'TO'), ('indicate', 'VB'), ('declining', 'VBG'), ('interest', 'NN'), ('rates', 'NNS'), ('because', 'IN'), ('they', 'PRP'), ('permit', 'VBP'), ('portfolio', 'NN'), ('managers', 'NNS'), ('to', 'TO'), ('retain', 'VB'), ('relatively', 'RB'), ('higher', 'JJR'), ('rates', 'NNS'), ('for', 'IN'), ('a', 'DT'), ('longer', 'JJR'), ('period', 'NN'), ('.', '.')], [('Shorter', 'JJR'), ('maturities', 'NNS'), ('are', 'VBP'), ('considered', 'VBN'), ('*-9', '-NONE-'), ('a', 'DT'), ('sign', 'NN'), ('of', 'IN'), ('rising', 'VBG'), ('rates', 'NNS'), ('because', 'IN'), ('portfolio', 'NN'), ('managers', 'NNS'), ('can', 'MD'), ('capture', 'VB'), ('higher', 'JJR'), ('rates', 'NNS'), ('sooner', 'RB'), ('.', '.')], [('The', 'DT'), ('average', 'JJ'), ('maturity', 'NN'), ('for', 'IN'), ('funds', 'NNS'), ('open', 'JJ'), ('only', 'RB'), ('to', 'TO'), ('institutions', 'NNS'), (',', ','), ('considered', 'VBN'), ('by', 'IN'), ('some', 'DT'), ('*', '-NONE-'), ('to', 'TO'), ('be', 'VB'), ('a', 'DT'), ('stronger', 'JJR'), ('indicator', 'NN'), ('because', 'IN'), ('those', 'DT'), ('managers', 'NNS'), ('watch', 'VBP'), ('the', 'DT'), ('market', 'NN'), ('closely', 'RB'), (',', ','), ('reached', 'VBD'), ('a', 'DT'), ('high', 'JJ'), ('point', 'NN'), ('for', 'IN'), ('the', 'DT'), ('year', 'NN'), ('--', ':'), ('33', 'CD'), ('days', 'NNS'), ('.', '.')]]\n"
     ]
    }
   ],
   "source": [
    "print(wsj[:40])"
   ]
  },
  {
   "cell_type": "code",
   "execution_count": 5,
   "metadata": {},
   "outputs": [
    {
     "name": "stdout",
     "output_type": "stream",
     "text": [
      "2739\n",
      "1175\n",
      "[[('Dennis', 'NNP'), ('Hayes', 'NNP'), ('and', 'CC'), ('Dale', 'NNP'), ('Heatherington', 'NNP'), (',', ','), ('two', 'CD'), ('Atlanta', 'NNP'), ('engineers', 'NNS'), (',', ','), ('were', 'VBD'), ('co-developers', 'NNS'), ('of', 'IN'), ('the', 'DT'), ('internal', 'JJ'), ('modems', 'NNS'), ('that', 'WDT'), ('*T*-33', '-NONE-'), ('allow', 'VBP'), ('PCs', 'NNS'), ('to', 'TO'), ('share', 'VB'), ('data', 'NNS'), ('via', 'IN'), ('the', 'DT'), ('telephone', 'NN'), ('.', '.')], [('He', 'PRP'), ('said', 'VBD'), ('0', '-NONE-'), ('the', 'DT'), ('exchange', 'NN'), ('is', 'VBZ'), ('``', '``'), ('headed', 'VBN'), ('for', 'IN'), ('a', 'DT'), ('real', 'JJ'), ('crisis', 'NN'), (\"''\", \"''\"), ('if', 'IN'), ('program', 'NN'), ('trading', 'NN'), ('is', 'VBZ'), (\"n't\", 'RB'), ('curbed', 'VBN'), ('*-1', '-NONE-'), ('.', '.')], [('The', 'DT'), ('specialists', 'NNS'), ('see', 'VBP'), ('any', 'DT'), ('step', 'NN'), ('to', 'TO'), ('electronic', 'JJ'), ('trading', 'NN'), ('as', 'IN'), ('a', 'DT'), ('death', 'NN'), ('knell', 'NN'), ('.', '.')], [('And', 'CC'), ('construction', 'NN'), ('also', 'RB'), ('was', 'VBD'), ('described', 'VBN'), ('*-101', '-NONE-'), ('as', 'IN'), ('slow', 'JJ'), ('in', 'IN'), ('most', 'JJS'), ('areas', 'NNS'), ('.', '.')], [('Just', 'RB'), ('as', 'IN'), ('all', 'DT'), ('plaintiffs', 'NNS'), ('are', 'VBP'), ('not', 'RB'), ('alike', 'RB'), (',', ','), ('it', 'PRP'), ('turns', 'VBZ'), ('out', 'RP'), ('that', 'IN'), ('DES', 'NNP'), ('defendants', 'NNS'), ('marketed', 'VBD'), ('the', 'DT'), ('drugs', 'NNS'), ('differently', 'RB'), ('and', 'CC'), ('may', 'MD'), ('have', 'VB'), ('offered', 'VBN'), ('different', 'JJ'), ('warranties', 'NNS'), ('.', '.')], [('They', 'PRP'), ('argue', 'VBP'), ('that', 'IN'), ('U.S.', 'NNP'), ('investors', 'NNS'), ('often', 'RB'), ('can', 'MD'), ('buy', 'VB'), ('American', 'JJ'), ('depositary', 'JJ'), ('receipts', 'NNS'), ('on', 'IN'), ('the', 'DT'), ('big', 'JJ'), ('stocks', 'NNS'), ('in', 'IN'), ('many', 'JJ'), ('funds', 'NNS'), (';', ':'), ('these', 'DT'), ('so-called', 'JJ'), ('ADRs', 'NNPS'), ('represent', 'VBP'), ('shares', 'NNS'), ('of', 'IN'), ('foreign', 'JJ'), ('companies', 'NNS'), ('traded', 'VBN'), ('*', '-NONE-'), ('in', 'IN'), ('the', 'DT'), ('U.S.', 'NNP'), ('.', '.')], [('South', 'NNP'), ('Korea', 'NNP'), ('has', 'VBZ'), ('different', 'JJ'), ('concerns', 'NNS'), ('.', '.')], [('The', 'DT'), ('Big', 'NNP'), ('Three', 'NNP'), ('auto', 'NN'), ('makers', 'NNS'), ('said', 'VBD'), ('0', '-NONE-'), ('the', 'DT'), ('rule', 'NN'), ('changes', 'NNS'), ('were', 'VBD'), (\"n't\", 'RB'), ('surprising', 'JJ'), ('because', 'IN'), ('Bush', 'NNP'), ('administration', 'NN'), ('officials', 'NNS'), ('have', 'VBP'), ('long', 'RB'), ('said', 'VBN'), ('0', '-NONE-'), ('they', 'PRP'), ('planned', 'VBD'), ('*-1', '-NONE-'), ('to', 'TO'), ('impose', 'VB'), ('car', 'NN'), ('safety', 'NN'), ('standards', 'NNS'), ('on', 'IN'), ('light', 'JJ'), ('trucks', 'NNS'), ('and', 'CC'), ('vans', 'NNS'), ('.', '.')], [('Institutions', 'NNS'), ('mostly', 'RB'), ('remained', 'VBD'), ('on', 'IN'), ('the', 'DT'), ('sidelines', 'NNS'), ('because', 'IN'), ('of', 'IN'), ('uncertainty', 'NN'), ('regarding', 'VBG'), ('interest', 'NN'), ('rates', 'NNS'), ('and', 'CC'), ('the', 'DT'), ('dollar', 'NN'), ('.', '.')], [('He', 'PRP'), ('will', 'MD'), ('continue', 'VB'), ('*-1', '-NONE-'), ('to', 'TO'), ('report', 'VB'), ('to', 'TO'), ('Donald', 'NNP'), ('Pardus', 'NNP'), (',', ','), ('president', 'NN'), ('and', 'CC'), ('chief', 'NN'), ('executive', 'NN'), ('officer', 'NN'), ('.', '.')], [('While', 'IN'), ('many', 'JJ'), ('of', 'IN'), ('the', 'DT'), ('risks', 'NNS'), ('were', 'VBD'), ('anticipated', 'VBN'), ('*-19', '-NONE-'), ('when', 'WRB'), ('Minneapolis-based', 'JJ'), ('Cray', 'NNP'), ('Research', 'NNP'), ('first', 'RB'), ('announced', 'VBD'), ('the', 'DT'), ('spinoff', 'NN'), ('in', 'IN'), ('May', 'NNP'), ('*T*-1', '-NONE-'), (',', ','), ('the', 'DT'), ('strings', 'NNS'), ('0', '-NONE-'), ('it', 'PRP'), ('attached', 'VBD'), ('*T*-2', '-NONE-'), ('to', 'TO'), ('the', 'DT'), ('financing', 'NN'), ('had', 'VBD'), (\"n't\", 'RB'), ('been', 'VBN'), ('made', 'VBN'), ('*-3', '-NONE-'), ('public', 'JJ'), ('until', 'IN'), ('yesterday', 'NN'), ('.', '.')], [('In', 'IN'), ('a', 'DT'), ('well-known', 'JJ'), ('detective-story', 'NN'), ('involving', 'VBG'), ('church', 'NN'), ('bells', 'NNS'), (',', ','), ('English', 'JJ'), ('novelist', 'NN'), ('Dorothy', 'NNP'), ('L.', 'NNP'), ('Sayers', 'NNP'), ('described', 'VBD'), ('ringing', 'VBG'), ('as', 'IN'), ('a', 'DT'), ('``', '``'), ('passion', 'NN'), ('-LCB-', '-LRB-'), ('that', 'DT'), ('-RCB-', '-RRB-'), ('*T*-1', '-NONE-'), ('finds', 'VBZ'), ('its', 'PRP$'), ('satisfaction', 'NN'), ('in', 'IN'), ('mathematical', 'JJ'), ('completeness', 'NN'), ('and', 'CC'), ('mechanical', 'JJ'), ('perfection', 'NN'), ('.', '.'), (\"''\", \"''\")], [('@', 'IN')], [('The', 'DT'), ('excision', 'NN'), ('of', 'IN'), ('unconstitutional', 'JJ'), ('conditions', 'NNS'), ('in', 'IN'), ('an', 'DT'), ('appropriations', 'NNS'), ('bill', 'NN'), ('would', 'MD'), ('be', 'VB'), ('a', 'DT'), ('power', 'NN'), ('of', 'IN'), ('far', 'RB'), ('more', 'RBR'), ('limited', 'VBN'), ('applicability', 'NN'), ('.', '.')], [('In', 'IN'), ('fact', 'NN'), (',', ','), ('the', 'DT'), ('student', 'NN'), ('had', 'VBD'), ('the', 'DT'), ('answers', 'NNS'), ('to', 'TO'), ('almost', 'RB'), ('all', 'DT'), ('of', 'IN'), ('the', 'DT'), ('40', 'CD'), ('questions', 'NNS'), ('in', 'IN'), ('that', 'DT'), ('section', 'NN'), ('.', '.')], [('4', 'LS'), ('.', '.'), ('*', '-NONE-'), ('Buy', 'VB'), ('a', 'DT'), ('diamond', 'NN'), ('necklace', 'NN'), ('.', '.')], [('``', '``'), ('An', 'DT'), ('active', 'JJ'), ('55-year-old', 'NN'), ('in', 'IN'), ('Boca', 'NNP'), ('Raton', 'NNP'), ('may', 'MD'), ('care', 'VB'), ('more', 'RBR'), ('about', 'IN'), ('Senior', 'NNP'), ('Olympic', 'NNP'), ('games', 'NNS'), (',', ','), ('while', 'IN'), ('a', 'DT'), ('75-year-old', 'CD'), ('in', 'IN'), ('Panama', 'NNP'), ('City', 'NNP'), ('may', 'MD'), ('care', 'VB'), ('more', 'RBR'), ('about', 'IN'), ('a', 'DT'), ('seminar', 'NN'), ('on', 'IN'), ('health', 'NN'), (',', ','), (\"''\", \"''\"), ('she', 'PRP'), ('says', 'VBZ'), ('*T*-1', '-NONE-'), ('.', '.')], [('Article', 'NNP'), ('II', 'NNP'), ('places', 'VBZ'), ('on', 'IN'), ('the', 'DT'), ('president', 'NN'), ('the', 'DT'), ('duty', 'NN'), ('*', '-NONE-'), ('to', 'TO'), ('nominate', 'VB'), ('*RNR*-1', '-NONE-'), (',', ','), ('``', '``'), ('and', 'CC'), ('by', 'IN'), ('and', 'CC'), ('with', 'IN'), ('the', 'DT'), ('Advice', 'NNP'), ('and', 'CC'), ('Consent', 'NNP'), ('of', 'IN'), ('the', 'DT'), ('Senate', 'NNP'), (\"''\", \"''\"), ('appoint', 'VB'), ('*RNR*-1', '-NONE-'), (',', ','), ('ambassadors', 'NNS'), (',', ','), ('judges', 'NNS'), (',', ','), ('and', 'CC'), ('other', 'JJ'), ('officers', 'NNS'), ('of', 'IN'), ('the', 'DT'), ('U.S.', 'NNP'), ('.', '.')], [('Not', 'RB'), ('included', 'VBN'), ('on', 'IN'), ('the', 'DT'), ('most-likely-successor', 'JJ'), ('list', 'NN'), ('are', 'VBP'), ('Joni', 'NNP'), ('Evans', 'NNP'), (',', ','), ('recruited', 'VBN'), ('*', '-NONE-'), ('two', 'CD'), ('years', 'NNS'), ('ago', 'IN'), ('*', '-NONE-'), ('to', 'TO'), ('be', 'VB'), ('publisher', 'NN'), ('of', 'IN'), ('adult', 'NN'), ('trade', 'NN'), ('books', 'NNS'), ('for', 'IN'), ('Random', 'NNP'), ('House', 'NNP'), (',', ','), ('and', 'CC'), ('Sonny', 'NNP'), ('Mehta', 'NNP'), (',', ','), ('president', 'NN'), ('of', 'IN'), ('the', 'DT'), ('prestigious', 'JJ'), ('Alfred', 'NNP'), ('A.', 'NNP'), ('Knopf', 'NNP'), ('unit', 'NN'), ('.', '.')], [('Countries', 'NNS'), ('in', 'IN'), ('the', 'DT'), ('region', 'NN'), ('also', 'RB'), ('are', 'VBP'), ('beginning', 'VBG'), ('*-1', '-NONE-'), ('to', 'TO'), ('consider', 'VB'), ('a', 'DT'), ('framework', 'NN'), ('for', 'IN'), ('closer', 'JJR'), ('economic', 'JJ'), ('and', 'CC'), ('political', 'JJ'), ('ties', 'NNS'), ('.', '.')], [('The', 'DT'), ('offer', 'NN'), (',', ','), ('valued', 'VBN'), ('*', '-NONE-'), ('at', 'IN'), ('about', 'IN'), ('$', '$'), ('576', 'CD'), ('million', 'CD'), ('*U*', '-NONE-'), ('for', 'IN'), ('the', 'DT'), ('33', 'CD'), ('%', 'NN'), ('of', 'IN'), ('Telerate', 'NNP'), ('that', 'IN'), ('Dow', 'NNP'), ('Jones', 'NNP'), ('does', 'VBZ'), (\"n't\", 'RB'), ('already', 'RB'), ('own', 'VBN'), ('*T*-1', '-NONE-'), (',', ','), ('had', 'VBD'), ('been', 'VBN'), ('set', 'VBN'), ('*-2', '-NONE-'), ('to', 'TO'), ('expire', 'VB'), ('Nov.', 'NNP'), ('6', 'CD'), ('.', '.')], [('Several', 'JJ'), ('candidates', 'NNS'), ('have', 'VBP'), ('withdrawn', 'VBN'), ('their', 'PRP$'), ('names', 'NNS'), ('from', 'IN'), ('consideration', 'NN'), ('after', 'IN'), ('administration', 'NN'), ('officials', 'NNS'), ('asked', 'VBD'), ('them', 'PRP'), ('for', 'IN'), ('their', 'PRP$'), ('views', 'NNS'), ('on', 'IN'), ('abortion', 'NN'), ('and', 'CC'), ('fetal-tissue', 'JJ'), ('transplants', 'NNS'), ('.', '.')], [('Mrs.', 'NNP'), ('Yeargin', 'NNP'), (\"'s\", 'POS'), ('extra', 'JJ'), ('work', 'NN'), ('was', 'VBD'), ('also', 'RB'), ('helping', 'VBG'), ('her', 'PRP'), ('earn', 'VB'), ('points', 'NNS'), ('in', 'IN'), ('the', 'DT'), ('state', 'NN'), (\"'s\", 'POS'), ('incentive-bonus', 'NN'), ('program', 'NN'), ('.', '.')], [('Dick', 'NNP'), ('Lobo', 'NNP'), (',', ','), ('the', 'DT'), ('general', 'JJ'), ('manager', 'NN'), ('of', 'IN'), ('WTVJ', 'NNP'), (',', ','), ('the', 'DT'), ('NBC-owned', 'JJ'), ('station', 'NN'), ('in', 'IN'), ('Miami', 'NNP'), (',', ','), ('for', 'IN'), ('example', 'NN'), (',', ','), ('says', 'VBZ'), ('0', '-NONE-'), ('the', 'DT'), ('show', 'NN'), ('has', 'VBZ'), ('``', '``'), ('been', 'VBN'), ('a', 'DT'), ('major', 'JJ'), ('disappointment', 'NN'), ('to', 'TO'), ('us', 'PRP'), ('.', '.'), (\"''\", \"''\")], [('Stock-index', 'NN'), ('options', 'NNS'), ('--', ':'), ('Options', 'NNS'), ('give', 'VBP'), ('holders', 'NNS'), ('the', 'DT'), ('right', 'NN'), ('*RNR*-1', '-NONE-'), (',', ','), ('but', 'CC'), ('not', 'RB'), ('the', 'DT'), ('obligation', 'NN'), ('*RNR*-1', '-NONE-'), (',', ','), ('*', '-NONE-'), ('to', 'TO'), ('buy', 'VB'), ('-LRB-', '-LRB-'), ('a', 'DT'), ('call', 'NN'), ('-RRB-', '-RRB-'), ('or', 'CC'), ('sell', 'VB'), ('-LRB-', '-LRB-'), ('a', 'DT'), ('put', 'NN'), ('-RRB-', '-RRB-'), ('a', 'DT'), ('specified', 'VBN'), ('amount', 'NN'), ('of', 'IN'), ('an', 'DT'), ('underlying', 'VBG'), ('investment', 'NN'), ('by', 'IN'), ('a', 'DT'), ('certin', 'NN'), ('date', 'NN'), ('at', 'IN'), ('a', 'DT'), ('preset', 'JJ'), ('price', 'NN'), (',', ','), ('known', 'VBN'), ('*', '-NONE-'), ('as', 'IN'), ('the', 'DT'), ('strike', 'NN'), ('price', 'NN'), ('.', '.')], [('But', 'CC'), ('anti-abortionists', 'NNS'), ('oppose', 'VBP'), ('such', 'JJ'), ('research', 'NN'), ('because', 'IN'), ('they', 'PRP'), ('worry', 'VBP'), ('that', 'IN'), ('the', 'DT'), ('development', 'NN'), ('of', 'IN'), ('therapies', 'NNS'), ('using', 'VBG'), ('fetal-tissue', 'JJ'), ('transplants', 'NNS'), ('could', 'MD'), ('lead', 'VB'), ('to', 'TO'), ('an', 'DT'), ('increase', 'NN'), ('in', 'IN'), ('abortions', 'NNS'), ('.', '.')], [('Its', 'PRP$'), ('new', 'JJ'), ('products', 'NNS'), ('and', 'CC'), ('trading', 'NN'), ('techniques', 'NNS'), ('have', 'VBP'), ('been', 'VBN'), ('highly', 'RB'), ('profitable', 'JJ'), ('.', '.')], [('DD', 'NNP'), ('Acquisition', 'NNP'), ('has', 'VBZ'), ('launched', 'VBN'), ('a', 'DT'), ('suit', 'NN'), ('in', 'IN'), ('a', 'DT'), ('Delaware', 'NNP'), ('court', 'NN'), ('*-2', '-NONE-'), ('seeking', 'VBG'), ('the', 'DT'), ('withdrawal', 'NN'), ('of', 'IN'), ('Dunkin', 'NNP'), (\"'s\", 'POS'), ('poison', 'NN'), ('pill', 'NN'), ('rights', 'NNS'), ('and', 'CC'), ('employee', 'NN'), ('stock', 'NN'), ('ownership', 'NN'), ('plans', 'NNS'), (',', ','), ('which', 'WDT'), ('it', 'PRP'), ('claims', 'VBZ'), ('0', '-NONE-'), ('*T*-3', '-NONE-'), ('were', 'VBD'), ('put', 'VBN'), ('*-1', '-NONE-'), ('in', 'IN'), ('place', 'NN'), ('*', '-NONE-'), ('to', 'TO'), ('deter', 'VB'), ('bidders', 'NNS'), ('.', '.')], [('Junk-bond', 'NN'), ('markdowns', 'NNS'), (',', ','), ('an', 'DT'), ('ongoing', 'JJ'), ('Securities', 'NNPS'), ('and', 'CC'), ('Exchange', 'NNP'), ('Commission', 'NNP'), ('investigation', 'NN'), (',', ','), ('a', 'DT'), ('Drexel', 'NNP'), ('Burnham', 'NNP'), ('Lambert', 'NNP'), ('connection', 'NN'), (',', ','), ('a', 'DT'), ('fizzled', 'VBN'), ('buy-out', 'NN'), ('rumor', 'NN'), ('.', '.')], [('It', 'PRP'), ('is', 'VBZ'), ('expected', 'VBN'), ('that', 'IN'), ('common', 'JJ'), ('shares', 'NNS'), ('equal', 'JJ'), ('to', 'TO'), ('the', 'DT'), ('number', 'NN'), ('of', 'IN'), ('units', 'NNS'), ('outstanding', 'JJ'), ('--', ':'), ('about', 'IN'), ('108', 'CD'), ('million', 'CD'), ('on', 'IN'), ('Sept.', 'NNP'), ('30', 'CD'), ('--', ':'), ('will', 'MD'), ('be', 'VB'), ('issued', 'VBN'), ('*-3', '-NONE-'), ('during', 'IN'), ('the', 'DT'), ('first', 'JJ'), ('quarter', 'NN'), ('of', 'IN'), ('1990', 'CD'), ('.', '.')], [('But', 'CC'), ('Dr.', 'NNP'), ('Genel', 'NNP'), ('warns', 'VBZ'), ('that', 'IN'), ('Dr.', 'NNP'), ('Mason', 'NNP'), (\"'s\", 'POS'), ('ruling', 'NN'), ('may', 'MD'), ('discourage', 'VB'), ('private', 'JJ'), ('funding', 'NN'), ('.', '.')], [('Under', 'IN'), ('a', 'DT'), ('1934', 'CD'), ('law', 'NN'), (',', ','), ('the', 'DT'), ('Johnson', 'NNP'), ('Debt', 'NNP'), ('Default', 'NNP'), ('Act', 'NNP'), (',', ','), ('as', 'RB'), ('*', '-NONE-'), ('amended', 'VBN'), ('*-1', '-NONE-'), (',', ','), ('it', 'PRP'), ('*EXP*-2', '-NONE-'), (\"'s\", 'VBZ'), ('illegal', 'JJ'), ('for', 'IN'), ('Americans', 'NNS'), ('to', 'TO'), ('extend', 'VB'), ('credit', 'NN'), ('to', 'TO'), ('countries', 'NNS'), ('in', 'IN'), ('default', 'NN'), ('to', 'TO'), ('the', 'DT'), ('U.S.', 'NNP'), ('government', 'NN'), (',', ','), ('unless', 'IN'), ('they', 'PRP'), ('are', 'VBP'), ('members', 'NNS'), ('of', 'IN'), ('the', 'DT'), ('World', 'NNP'), ('Bank', 'NNP'), ('and', 'CC'), ('International', 'NNP'), ('Monetary', 'NNP'), ('Fund', 'NNP'), ('.', '.')], [('They', 'PRP'), ('cite', 'VBP'), ('a', 'DT'), ('lack', 'NN'), ('of', 'IN'), ('``', '``'), ('imbalances', 'NNS'), (\"''\", \"''\"), ('that', 'WDT'), ('*T*-47', '-NONE-'), ('provide', 'VBP'), ('early', 'JJ'), ('warning', 'NN'), ('signals', 'NNS'), ('of', 'IN'), ('a', 'DT'), ('downturn', 'NN'), ('.', '.')], [('``', '``'), ('There', 'EX'), (\"'s\", 'VBZ'), ('no', 'DT'), ('question', 'NN'), ('that', 'IN'), ('some', 'DT'), ('of', 'IN'), ('those', 'DT'), ('workers', 'NNS'), ('and', 'CC'), ('managers', 'NNS'), ('contracted', 'VBD'), ('asbestos-related', 'JJ'), ('diseases', 'NNS'), (',', ','), (\"''\", \"''\"), ('said', 'VBD'), ('*T*-1', '-NONE-'), ('Darrell', 'NNP'), ('Phillips', 'NNP'), (',', ','), ('vice', 'NN'), ('president', 'NN'), ('of', 'IN'), ('human', 'JJ'), ('resources', 'NNS'), ('for', 'IN'), ('Hollingsworth', 'NNP'), ('&', 'CC'), ('Vose', 'NNP'), ('.', '.')], [('*-4', '-NONE-'), ('A', 'DT'), ('high-balance', 'JJ'), ('customer', 'NN'), ('that', 'IN'), ('banks', 'NNS'), ('pine', 'VBP'), ('for', 'RP'), ('*T*-1', '-NONE-'), (',', ','), ('she', 'PRP'), ('did', 'VBD'), (\"n't\", 'RB'), ('give', 'VB'), ('much', 'JJ'), ('thought', 'NN'), ('to', 'TO'), ('the', 'DT'), ('rates', 'NNS'), ('0', '-NONE-'), ('she', 'PRP'), ('was', 'VBD'), ('receiving', 'VBG'), ('*T*-2', '-NONE-'), (',', ','), ('nor', 'CC'), ('to', 'TO'), ('the', 'DT'), ('fees', 'NNS'), ('0', '-NONE-'), ('she', 'PRP'), ('was', 'VBD'), ('paying', 'VBG'), ('*T*-3', '-NONE-'), ('.', '.')], [('The', 'DT'), ('other', 'JJ'), ('has', 'VBZ'), ('opposed', 'VBN'), ('a', 'DT'), ('ban', 'NN'), ('on', 'IN'), ('cop-killer', 'JJ'), ('bullets', 'NNS'), ('.', '.')], [('The', 'DT'), ('total', 'NN'), ('of', 'IN'), ('18', 'CD'), ('deaths', 'NNS'), ('from', 'IN'), ('malignant', 'JJ'), ('mesothelioma', 'NN'), (',', ','), ('lung', 'NN'), ('cancer', 'NN'), ('and', 'CC'), ('asbestosis', 'NN'), ('was', 'VBD'), ('far', 'RB'), ('higher', 'JJR'), ('than', 'IN'), ('*', '-NONE-'), ('expected', 'VBN'), ('*?*', '-NONE-'), (',', ','), ('the', 'DT'), ('researchers', 'NNS'), ('said', 'VBD'), ('0', '-NONE-'), ('*T*-1', '-NONE-'), ('.', '.')], [('But', 'CC'), (',', ','), ('say', 'VBP'), ('0', '-NONE-'), ('*T*-1', '-NONE-'), ('Mr.', 'NNP'), ('Dinkins', 'NNP'), (\"'s\", 'POS'), ('managers', 'NNS'), (',', ','), ('he', 'PRP'), ('did', 'VBD'), ('have', 'VB'), ('an', 'DT'), ('office', 'NN'), ('and', 'CC'), ('his', 'PRP$'), ('organization', 'NN'), ('did', 'VBD'), ('have', 'VB'), ('members', 'NNS'), ('.', '.')], [('Still', 'RB'), (',', ','), ('some', 'DT'), ('market', 'NN'), ('analysts', 'NNS'), ('say', 'VBP'), ('0', '-NONE-'), ('the', 'DT'), ('current', 'JJ'), ('3.3', 'CD'), ('%', 'NN'), ('reading', 'NN'), ('is', 'VBZ'), (\"n't\", 'RB'), ('as', 'RB'), ('troublesome', 'JJ'), ('as', 'IN'), ('it', 'PRP'), ('might', 'MD'), ('have', 'VB'), ('been', 'VBN'), ('*?*', '-NONE-'), ('in', 'IN'), ('years', 'NNS'), ('past', 'NN'), ('.', '.')], [('Until', 'IN'), ('such', 'JJ'), ('action', 'NN'), ('takes', 'VBZ'), ('places', 'NNS'), (',', ','), ('the', 'DT'), ('Treasury', 'NNP'), ('has', 'VBZ'), ('no', 'DT'), ('ability', 'NN'), ('*', '-NONE-'), ('to', 'TO'), ('issue', 'VB'), ('new', 'JJ'), ('debt', 'NN'), ('of', 'IN'), ('any', 'DT'), ('kind', 'NN'), ('.', '.')]]\n"
     ]
    }
   ],
   "source": [
    "random.seed(1234)\n",
    "train_set, test_set = train_test_split(wsj,test_size=0.3)\n",
    "print(len(train_set))\n",
    "print(len(test_set))\n",
    "print(train_set[:40])"
   ]
  },
  {
   "cell_type": "code",
   "execution_count": 6,
   "metadata": {},
   "outputs": [
    {
     "data": {
      "text/plain": [
       "71206"
      ]
     },
     "execution_count": 6,
     "metadata": {},
     "output_type": "execute_result"
    }
   ],
   "source": [
    "train_tagged_words = [tup for sent in train_set for tup in sent]\n",
    "len(train_tagged_words)"
   ]
  },
  {
   "cell_type": "code",
   "execution_count": 7,
   "metadata": {},
   "outputs": [
    {
     "data": {
      "text/plain": [
       "['Dennis',\n",
       " 'Hayes',\n",
       " 'and',\n",
       " 'Dale',\n",
       " 'Heatherington',\n",
       " ',',\n",
       " 'two',\n",
       " 'Atlanta',\n",
       " 'engineers',\n",
       " ',']"
      ]
     },
     "execution_count": 7,
     "metadata": {},
     "output_type": "execute_result"
    }
   ],
   "source": [
    "tokens = [pair[0] for pair in train_tagged_words]\n",
    "tokens[:10]"
   ]
  },
  {
   "cell_type": "code",
   "execution_count": 8,
   "metadata": {},
   "outputs": [
    {
     "name": "stdout",
     "output_type": "stream",
     "text": [
      "10282\n"
     ]
    }
   ],
   "source": [
    "V = set(tokens)\n",
    "print(len(V))"
   ]
  },
  {
   "cell_type": "code",
   "execution_count": 9,
   "metadata": {},
   "outputs": [
    {
     "data": {
      "text/plain": [
       "46"
      ]
     },
     "execution_count": 9,
     "metadata": {},
     "output_type": "execute_result"
    }
   ],
   "source": [
    "T = set([pair[1] for pair in train_tagged_words])\n",
    "len(T)"
   ]
  },
  {
   "cell_type": "code",
   "execution_count": 10,
   "metadata": {},
   "outputs": [
    {
     "name": "stdout",
     "output_type": "stream",
     "text": [
      "{'VBZ', 'UH', '.', ',', 'POS', 'VB', 'VBN', 'JJR', 'VBG', 'RBR', '-LRB-', 'IN', 'WDT', 'NN', 'NNP', 'JJ', 'PDT', 'EX', 'VBD', 'VBP', 'TO', '#', 'FW', '-NONE-', \"''\", 'RB', '``', 'MD', 'LS', 'CC', 'WRB', 'RP', 'DT', 'JJS', 'PRP', 'NNS', 'WP$', 'CD', 'RBS', 'SYM', '-RRB-', 'WP', '$', ':', 'NNPS', 'PRP$'}\n"
     ]
    }
   ],
   "source": [
    "print(T)"
   ]
  },
  {
   "cell_type": "code",
   "execution_count": 11,
   "metadata": {},
   "outputs": [],
   "source": [
    "t = len(T)\n",
    "v = len(V)\n",
    "w_given_t = np.zeros((t,v))"
   ]
  },
  {
   "cell_type": "code",
   "execution_count": 18,
   "metadata": {},
   "outputs": [],
   "source": [
    "def word_given_tag(word, tag, train_bag = train_tagged_words):\n",
    "    tag_list = [pair for pair in train_bag if pair[1] == tag]\n",
    "    count_tag = len(tag_list)\n",
    "    w_given_tag_list = [pair[0] for pair in tag_list  if pair[0] == word ]\n",
    "    count_w_given_tag = len(w_given_tag_list)\n",
    "    return (count_w_given_tag, count_tag)"
   ]
  },
  {
   "cell_type": "code",
   "execution_count": 19,
   "metadata": {},
   "outputs": [
    {
     "name": "stdout",
     "output_type": "stream",
     "text": [
      "\n",
      " large\n",
      "(20, 4162)\n",
      "(0, 1794)\n",
      "(0, 9392) \n",
      "\n"
     ]
    }
   ],
   "source": [
    "print(\"\\n\", \"large\")\n",
    "print(word_given_tag('large', 'JJ'))\n",
    "print(word_given_tag('large', 'VB'))\n",
    "print(word_given_tag('large', 'NN'), '\\n')"
   ]
  },
  {
   "cell_type": "code",
   "execution_count": 20,
   "metadata": {},
   "outputs": [
    {
     "name": "stdout",
     "output_type": "stream",
     "text": [
      "\n",
      " will\n",
      "(191, 642)\n",
      "(0, 9392)\n",
      "(0, 1794) \n",
      "\n"
     ]
    }
   ],
   "source": [
    "print(\"\\n\", \"will\")\n",
    "print(word_given_tag('will', 'MD'))\n",
    "print(word_given_tag('will', 'NN'))\n",
    "print(word_given_tag('will', 'VB'), '\\n')"
   ]
  },
  {
   "cell_type": "code",
   "execution_count": 21,
   "metadata": {},
   "outputs": [
    {
     "name": "stdout",
     "output_type": "stream",
     "text": [
      "\n",
      " book\n",
      "(6, 9392)\n",
      "(1, 1794)\n"
     ]
    }
   ],
   "source": [
    "print(\"\\n\", \"book\")\n",
    "print(word_given_tag('book', 'NN'))\n",
    "print(word_given_tag('book', 'VB'))\n"
   ]
  },
  {
   "cell_type": "code",
   "execution_count": null,
   "metadata": {},
   "outputs": [],
   "source": []
  }
 ],
 "metadata": {
  "kernelspec": {
   "display_name": "Python 3",
   "language": "python",
   "name": "python3"
  },
  "language_info": {
   "codemirror_mode": {
    "name": "ipython",
    "version": 3
   },
   "file_extension": ".py",
   "mimetype": "text/x-python",
   "name": "python",
   "nbconvert_exporter": "python",
   "pygments_lexer": "ipython3",
   "version": "3.5.5"
  }
 },
 "nbformat": 4,
 "nbformat_minor": 2
}
