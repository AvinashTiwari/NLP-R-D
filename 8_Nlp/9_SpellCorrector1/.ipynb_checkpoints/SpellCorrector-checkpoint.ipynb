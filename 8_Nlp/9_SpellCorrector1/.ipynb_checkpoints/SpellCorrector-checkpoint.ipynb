{
 "cells": [
  {
   "cell_type": "code",
   "execution_count": 1,
   "metadata": {},
   "outputs": [],
   "source": [
    "import re\n",
    "from collections import Counter"
   ]
  },
  {
   "cell_type": "code",
   "execution_count": 2,
   "metadata": {},
   "outputs": [],
   "source": [
    "def words(document):\n",
    "    return re.findall(r'\\w+' , document.lower())"
   ]
  },
  {
   "cell_type": "code",
   "execution_count": 3,
   "metadata": {},
   "outputs": [],
   "source": [
    "all_words = Counter(words(open (\"big.txt\").read()))"
   ]
  },
  {
   "cell_type": "code",
   "execution_count": 4,
   "metadata": {},
   "outputs": [
    {
     "data": {
      "text/plain": [
       "135"
      ]
     },
     "execution_count": 4,
     "metadata": {},
     "output_type": "execute_result"
    }
   ],
   "source": [
    "all_words['chair']"
   ]
  },
  {
   "cell_type": "code",
   "execution_count": 5,
   "metadata": {},
   "outputs": [
    {
     "data": {
      "text/plain": [
       "[('the', 79809),\n",
       " ('of', 40024),\n",
       " ('and', 38312),\n",
       " ('to', 28765),\n",
       " ('in', 22023),\n",
       " ('a', 21124),\n",
       " ('that', 12512),\n",
       " ('he', 12401),\n",
       " ('was', 11410),\n",
       " ('it', 10681)]"
      ]
     },
     "execution_count": 5,
     "metadata": {},
     "output_type": "execute_result"
    }
   ],
   "source": [
    "all_words.most_common(10)"
   ]
  },
  {
   "cell_type": "code",
   "execution_count": 6,
   "metadata": {},
   "outputs": [],
   "source": [
    "def edits_one(word):\n",
    "    alphabets    = 'abcdefghijklmnopqrstuvwxyz'\n",
    "    splits     = [(word[:i], word[i:])                   for i in range(len(word) + 1)]\n",
    "    deletes    = [left + right[1:]                       for left, right in splits if right]\n",
    "    inserts    = [left + c + right                       for left, right in splits for c in alphabets]\n",
    "    replaces   = [left + c + right[1:]                   for left, right in splits if right for c in alphabets]\n",
    "    transposes = [left + right[1] + right[0] + right[2:] for left, right in splits if len(right)>1]\n",
    "    return set(deletes + inserts + replaces + transposes)"
   ]
  },
  {
   "cell_type": "code",
   "execution_count": 7,
   "metadata": {},
   "outputs": [],
   "source": [
    "word = \"money\"\n",
    "alphabets    = 'abcdefghijklmnopqrstuvwxyz'\n",
    "splits     = [(word[:i], word[i:])                   for i in range(len(word) + 1)]\n",
    "deletes    = [left + right[1:]                       for left, right in splits if right]\n",
    "inserts    = [left + c + right                       for left, right in splits for c in alphabets]\n",
    "replaces   = [left + c + right[1:]                   for left, right in splits if right for c in alphabets]\n",
    "transposes = [left + right[1] + right[0] + right[2:] for left, right in splits if len(right)>1]"
   ]
  },
  {
   "cell_type": "code",
   "execution_count": 8,
   "metadata": {},
   "outputs": [
    {
     "data": {
      "text/plain": [
       "['omney', 'mnoey', 'moeny', 'monye']"
      ]
     },
     "execution_count": 8,
     "metadata": {},
     "output_type": "execute_result"
    }
   ],
   "source": [
    "transposes"
   ]
  },
  {
   "cell_type": "code",
   "execution_count": 9,
   "metadata": {},
   "outputs": [],
   "source": [
    "def edits_two(word):\n",
    "    return (e2 for e1 in edits_one(word) for e2 in edits_one(e1))"
   ]
  },
  {
   "cell_type": "code",
   "execution_count": 10,
   "metadata": {},
   "outputs": [],
   "source": [
    "def known(words):\n",
    "    return set(word for word in words if word in all_words)"
   ]
  },
  {
   "cell_type": "code",
   "execution_count": 11,
   "metadata": {},
   "outputs": [],
   "source": [
    "def possible_corrections(word):\n",
    "    return (known([word]) or known(edits_one(word)) or known(edits_two(word)) or [word])"
   ]
  },
  {
   "cell_type": "code",
   "execution_count": 12,
   "metadata": {},
   "outputs": [],
   "source": [
    "def prob(word, N=sum(all_words.values())): \n",
    "    return all_words[word] / N"
   ]
  },
  {
   "cell_type": "code",
   "execution_count": 13,
   "metadata": {},
   "outputs": [
    {
     "name": "stdout",
     "output_type": "stream",
     "text": [
      "1\n",
      "{'mkonney', 'molney', 'monned', 'monwey', 'mojney', 'monnev', 'monneyt', 'mojnney', 'mozney', 'monxney', 'jonney', 'monnek', 'mqnney', 'xonney', 'monneyz', 'pmonney', 'monneb', 'monneu', 'moinney', 'monkney', 'mowney', 'moqney', 'monneys', 'monndey', 'monnoy', 'monxey', 'monner', 'bmonney', 'monnefy', 'moxney', 'zmonney', 'monnery', 'monuey', 'monny', 'mxonney', 'monnesy', 'mqonney', 'maonney', 'monneyq', 'monpney', 'monneyh', 'mnoney', 'monnhy', 'monnwey', 'moknney', 'gmonney', 'gonney', 'mmnney', 'monpey', 'monnny', 'monnby', 'monneyv', 'monqney', 'monyney', 'mgnney', 'monoey', 'momnney', 'ronney', 'moynney', 'monnmey', 'monvney', 'monnvy', 'molnney', 'monnevy', 'mwnney', 'omonney', 'monfney', 'lonney', 'moniney', 'monaney', 'conney', 'mfnney', 'mnnney', 'movney', 'hmonney', 'monkey', 'monnzy', 'mronney', 'monnkey', 'mogney', 'vonney', 'moznney', 'msonney', 'mdnney', 'monneq', 'mdonney', 'mooney', 'moiney', 'modnney', 'monnfey', 'monnzey', 'wonney', 'movnney', 'monhney', 'monnqy', 'monneyo', 'nonney', 'monneyb', 'monnen', 'manney', 'amonney', 'monntey', 'monjey', 'monyey', 'mounney', 'monncy', 'monneuy', 'moqnney', 'mopney', 'jmonney', 'monneyn', 'mponney', 'moeney', 'monnjy', 'mokney', 'monnex', 'emonney', 'vmonney', 'mpnney', 'mornney', 'monneyd', 'monrney', 'nmonney', 'monnely', 'mhonney', 'mosnney', 'zonney', 'monnuey', 'motney', 'motnney', 'mlonney', 'mofney', 'monneoy', 'money', 'donney', 'monnqey', 'mknney', 'monneye', 'menney', 'mobney', 'monneyx', 'monley', 'oonney', 'monngey', 'monnexy', 'mohnney', 'monnvey', 'mongey', 'monnpy', 'montey', 'rmonney', 'mbnney', 'monlney', 'moneey', 'monneyl', 'monnec', 'aonney', 'monfey', 'mvonney', 'mongney', 'monnrey', 'mofnney', 'mwonney', 'lmonney', 'mtnney', 'monneyg', 'monncey', 'monzey', 'monniy', 'monnwy', 'dmonney', 'monnezy', 'omnney', 'fmonney', 'imonney', 'muonney', 'monnef', 'ymonney', 'monniey', 'monnei', 'monuney', 'monrey', 'monneyu', 'monneiy', 'monneyc', 'monnyey', 'monnegy', 'monnejy', 'monnet', 'mgonney', 'monnehy', 'xmonney', 'moncney', 'monneya', 'mtonney', 'fonney', 'konney', 'monnety', 'mopnney', 'mvnney', 'monngy', 'monnky', 'moenney', 'msnney', 'mjnney', 'yonney', 'monneny', 'qmonney', 'monney', 'monnney', 'tonney', 'monbney', 'monmney', 'monjney', 'moneney', 'monnedy', 'eonney', 'monnye', 'moanney', 'mfonney', 'montney', 'mondney', 'monnej', 'monneh', 'mononey', 'monsey', 'mhnney', 'monnhey', 'monneyr', 'monnley', 'honney', 'ponney', 'monnry', 'monneky', 'munney', 'monnepy', 'moaney', 'moniey', 'monaey', 'monnez', 'myonney', 'monnmy', 'monneay', 'monndy', 'monnea', 'mznney', 'mondey', 'smonney', 'mmonney', 'monnem', 'momney', 'monnaey', 'ionney', 'monnpey', 'monsney', 'monnes', 'monnfy', 'moonney', 'monnsy', 'monnyy', 'kmonney', 'qonney', 'mrnney', 'monneyi', 'monvey', 'monnay', 'modney', 'monnewy', 'monneyw', 'monnjey', 'sonney', 'mocnney', 'monnecy', 'monne', 'bonney', 'monhey', 'monneo', 'monnsey', 'monmey', 'mouney', 'monneyf', 'mnney', 'mosney', 'mionney', 'morney', 'mjonney', 'wmonney', 'mnonney', 'monneym', 'monzney', 'mobnney', 'monneyj', 'mcnney', 'mconney', 'monneyk', 'monnemy', 'meonney', 'monneqy', 'mxnney', 'monnly', 'monnxey', 'minney', 'monnty', 'moncey', 'monneby', 'mynney', 'moyney', 'monnbey', 'onney', 'cmonney', 'monneey', 'monwney', 'monnxy', 'monnuy', 'mocney', 'monnee', 'monnew', 'moneny', 'monneyp', 'mzonney', 'monneyy', 'mognney', 'uonney', 'mlnney', 'monnep', 'umonney', 'moxnney', 'monnoey', 'mownney', 'tmonney', 'monbey', 'monneg', 'mohney', 'monqey', 'mbonney', 'monnel'}\n"
     ]
    }
   ],
   "source": [
    "print(len(set(possible_corrections(\"emfasize\"))))\n",
    "\n",
    "print(edits_one(\"monney\"))"
   ]
  },
  {
   "cell_type": "code",
   "execution_count": 14,
   "metadata": {},
   "outputs": [
    {
     "name": "stdout",
     "output_type": "stream",
     "text": [
      "{'money', 'monkey'}\n"
     ]
    }
   ],
   "source": [
    "print(known(edits_one(\"monney\")))"
   ]
  },
  {
   "cell_type": "code",
   "execution_count": 15,
   "metadata": {},
   "outputs": [
    {
     "name": "stdout",
     "output_type": "stream",
     "text": [
      "51013\n",
      "{'money', 'monkey'}\n"
     ]
    }
   ],
   "source": [
    "print(len(set(edits_two(\"monney\"))))\n",
    "print(known(edits_one(\"monney\")))"
   ]
  },
  {
   "cell_type": "code",
   "execution_count": 16,
   "metadata": {},
   "outputs": [
    {
     "name": "stdout",
     "output_type": "stream",
     "text": [
      "{'money', 'monkey'}\n"
     ]
    }
   ],
   "source": [
    "print(possible_corrections(\"monney\"))"
   ]
  },
  {
   "cell_type": "code",
   "execution_count": 17,
   "metadata": {},
   "outputs": [
    {
     "name": "stdout",
     "output_type": "stream",
     "text": [
      "0.0002922233626303688\n",
      "5.378344097491451e-06\n"
     ]
    }
   ],
   "source": [
    "print(prob(\"money\"))\n",
    "print(prob(\"monkey\"))"
   ]
  },
  {
   "cell_type": "code",
   "execution_count": 18,
   "metadata": {},
   "outputs": [],
   "source": [
    "def spell_check(word):\n",
    "    \"Print the most probable spelling correction for `word` out of all the `possible_corrections`\"\n",
    "    correct_word = max(possible_corrections(word), key=prob)\n",
    "    if correct_word != word:\n",
    "        return \"Did you mean \" + correct_word + \"?\"\n",
    "    else:\n",
    "        return \"Correct spelling.\""
   ]
  },
  {
   "cell_type": "code",
   "execution_count": 19,
   "metadata": {},
   "outputs": [
    {
     "name": "stdout",
     "output_type": "stream",
     "text": [
      "Did you mean money?\n"
     ]
    }
   ],
   "source": [
    "print(spell_check(\"monney\"))"
   ]
  },
  {
   "cell_type": "code",
   "execution_count": null,
   "metadata": {},
   "outputs": [],
   "source": []
  }
 ],
 "metadata": {
  "kernelspec": {
   "display_name": "Python 3",
   "language": "python",
   "name": "python3"
  },
  "language_info": {
   "codemirror_mode": {
    "name": "ipython",
    "version": 3
   },
   "file_extension": ".py",
   "mimetype": "text/x-python",
   "name": "python",
   "nbconvert_exporter": "python",
   "pygments_lexer": "ipython3",
   "version": "3.7.0"
  }
 },
 "nbformat": 4,
 "nbformat_minor": 2
}
